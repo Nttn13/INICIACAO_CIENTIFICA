{
 "cells": [
  {
   "cell_type": "markdown",
   "metadata": {},
   "source": [
    "# LR Gradient Dsc"
   ]
  },
  {
   "cell_type": "code",
   "execution_count": 1,
   "metadata": {},
   "outputs": [
    {
     "name": "stdout",
     "output_type": "stream",
     "text": [
      "y = 2.0x + 0.0\n"
     ]
    },
    {
     "data": {
      "text/plain": [
       "0.0"
      ]
     },
     "execution_count": 1,
     "metadata": {},
     "output_type": "execute_result"
    }
   ],
   "source": [
    "def setex():\n",
    "  ex = {}\n",
    "  n = int(input('Quantos exemplos?: '))\n",
    "  for i in range(n):\n",
    "    x = int(input('x: '))\n",
    "    y =  int(input('y: '))\n",
    "    ex[x] = y\n",
    "  return ex\n",
    "\n",
    "def cost(ex,tx,ta):\n",
    "  c = sum([((ta + (tx*x)) - y) ** 2 for x,y in ex.items()])/(2 * len(ex))\n",
    "  return round(c,10)\n",
    "\n",
    "def dcostta(ex,tx,ta):\n",
    "  c = sum([((ta + (tx*x)) - y) for x,y in ex.items()])/len(ex)\n",
    "  return round(c,10)\n",
    "\n",
    "def dcosttx(ex,tx,ta):\n",
    "  c = sum([(((ta + (tx*x)) - y) * x) for x,y in ex.items()])/len(ex)\n",
    "  return round(c,10)\n",
    "\n",
    "def findeq(ex):\n",
    "  global ta\n",
    "  global tx\n",
    "  ta = 0\n",
    "  tx = 0\n",
    "  while abs(dcosttx(ex,tx,ta)) > 0 or abs(dcostta(ex,tx,ta)) > 0:\n",
    "    temp1 = 0.01 * dcosttx(ex,tx,ta)\n",
    "    temp2 = 0.01 * dcostta(ex,tx,ta)\n",
    "    tx = tx - temp1\n",
    "    ta = ta - temp2\n",
    "  print((f'y = {round(tx,2)}x + {round(ta,2)}'))\n",
    "\n",
    "ex = setex()\n",
    "findeq(ex)\n",
    "cost(ex,tx,ta)"
   ]
  },
  {
   "cell_type": "markdown",
   "metadata": {},
   "source": [
    "# LR equação direta"
   ]
  },
  {
   "cell_type": "code",
   "execution_count": null,
   "metadata": {},
   "outputs": [],
   "source": [
    "def setex():\n",
    "  ex = {}\n",
    "  n = int(input('Quantos exemplos?: '))\n",
    "  for i in range(n):\n",
    "    x = int(input('x: '))\n",
    "    y =  int(input('y: '))\n",
    "    ex[x] = y\n",
    "  return ex\n",
    "\n",
    "def cost(ex,tx,ta):\n",
    "  c = sum([((ta + (tx*x)) - y) ** 2 for x,y in ex.items()])/(2 * len(ex))\n",
    "  return round(c,10)\n",
    "\n",
    "def medx(ex):\n",
    "  xm = sum([i for i in list(ex.keys())])/len(ex)\n",
    "  return xm\n",
    "\n",
    "def medy(ex):\n",
    "  ym = sum([i for i in list(ex.values())])/len(ex)\n",
    "  return ym\n",
    "\n",
    "def rgr(ex):\n",
    "  global ta\n",
    "  global tx\n",
    "  x = [a for a in ex]\n",
    "  y = [a for a in ex.values()]\n",
    "  xm = medx(ex)\n",
    "  ym = medy(ex)\n",
    "  numtx = sum([(y[i] - ym)*x[i] for i in range(len(ex))])\n",
    "  dentx = sum([(x[i] - xm)*x[i] for i in range(len(ex))])\n",
    "  tx = numtx/dentx\n",
    "  ta = ym - tx*xm\n",
    "  print((f'y = {round(tx,2)}x + {round(ta,2)}'))\n",
    "\n",
    "ex = setex()\n",
    "rgr(ex)\n",
    "cost(ex,tx,ta)"
   ]
  }
 ],
 "metadata": {
  "kernelspec": {
   "display_name": "base",
   "language": "python",
   "name": "python3"
  },
  "language_info": {
   "codemirror_mode": {
    "name": "ipython",
    "version": 3
   },
   "file_extension": ".py",
   "mimetype": "text/x-python",
   "name": "python",
   "nbconvert_exporter": "python",
   "pygments_lexer": "ipython3",
   "version": "3.12.7"
  }
 },
 "nbformat": 4,
 "nbformat_minor": 2
}
