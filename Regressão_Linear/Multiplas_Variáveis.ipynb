{
 "cells": [
  {
   "cell_type": "markdown",
   "metadata": {},
   "source": [
    "# LR Gradient Dsc"
   ]
  },
  {
   "cell_type": "code",
   "execution_count": null,
   "metadata": {
    "vscode": {
     "languageId": "plaintext"
    }
   },
   "outputs": [],
   "source": [
    "import numpy as np\n",
    "import numpy.linalg as la"
   ]
  },
  {
   "cell_type": "code",
   "execution_count": null,
   "metadata": {
    "vscode": {
     "languageId": "plaintext"
    }
   },
   "outputs": [],
   "source": [
    "x = np.array([[1,1],[1,2],[1,3]])\n",
    "t = np.array([[0],[0]])\n",
    "y = np.array([[3],[7],[9]])\n",
    "\n",
    "def setex():\n",
    "  global x\n",
    "  global t\n",
    "  global y\n",
    "  n = int(input('Quantas variaveis?: '))\n",
    "  m = int(input('Quantos exemplos?: '))\n",
    "  t1 = [[0] for i in range(n+1)]\n",
    "  x1 = [[1 if j == 0 else float(input(f'Qual será o valor da {j}º variavel: ')) for j in range(n+1)] for i in range(m)]\n",
    "  y1 = [[float(input(f'Qual será o valor do {i+1}º exemplo: '))] for i in range(m)]\n",
    "  x = np.array(x1)\n",
    "  y = np.array(y1)\n",
    "  t = np.array(t1)\n",
    "\n",
    "def cost(x,t,y):\n",
    "  c = sum([((x[i] @ t)[0] - y[i,0]) ** 2 for i in range(len(y))])/(2 * len(y))\n",
    "  return round(c,10)\n",
    "\n",
    "def dcosts(x,t,y):\n",
    "  der = []\n",
    "  for j in range(len(x[0])):\n",
    "    c = sum([((x[i] @ t)[0] - y[i,0])*x[i,j] for i in range(len(y))])/len(y)\n",
    "    der.append(c)\n",
    "  return der\n",
    "\n",
    "def findeq(x,t,y):\n",
    "  e = 0\n",
    "  while e != len(t):\n",
    "    e = 0\n",
    "    for i in dcosts(x,t,y):\n",
    "      if abs(i) < 0.000001:\n",
    "        e += 1\n",
    "    t = t - (np.transpose(np.array([dcosts(x,t,y)])) * 0.01)\n",
    "  l = [round(t[i][0],3) for i in range(len(t))]\n",
    "  return np.transpose(np.array([l]))\n",
    "\n",
    "setex()\n",
    "print(x)\n",
    "j = findeq(x,t,y)\n",
    "print(j)\n",
    "print(cost(x,j,y))"
   ]
  },
  {
   "cell_type": "markdown",
   "metadata": {},
   "source": [
    "# LR Equação Direta"
   ]
  },
  {
   "cell_type": "code",
   "execution_count": null,
   "metadata": {
    "vscode": {
     "languageId": "plaintext"
    }
   },
   "outputs": [],
   "source": [
    "import numpy as np\n",
    "import numpy.linalg as la"
   ]
  },
  {
   "cell_type": "code",
   "execution_count": null,
   "metadata": {
    "vscode": {
     "languageId": "plaintext"
    }
   },
   "outputs": [],
   "source": [
    "def setex():\n",
    "  global x\n",
    "  global t\n",
    "  global y\n",
    "  n = int(input('Quantas variaveis?: '))\n",
    "  m = int(input('Quantos exemplos?: '))\n",
    "  t1 = [[0] for i in range(n+1)]\n",
    "  x1 = [[1 if j == 0 else float(input(f'Qual será o valor da {j}º variavel: ')) for j in range(n+1)] for i in range(m)]\n",
    "  y1 = [[float(input(f'Qual será o valor do {i+1}º exemplo: '))] for i in range(m)]\n",
    "  x = np.array(x1)\n",
    "  y = np.array(y1)\n",
    "  t = np.array(t1)\n",
    "\n",
    "def cost(x,t,y):\n",
    "  c = sum([((x[i] @ t)[0] - y[i,0]) ** 2 for i in range(len(y))])/(2 * len(y))\n",
    "  return round(c,10)\n",
    "\n",
    "def findeq(x,t,y):\n",
    "  t = la.pinv(np.transpose(x) @ x) @ np.transpose(x) @ y\n",
    "  for i in range(len(t)):\n",
    "    t[i,0] = round(t[i,0],3)\n",
    "  return t\n",
    "\n",
    "setex()\n",
    "print(x)\n",
    "j = findeq(x,t,y)\n",
    "print(j)\n",
    "print(cost(x,j,y))"
   ]
  }
 ],
 "metadata": {
  "language_info": {
   "name": "python"
  }
 },
 "nbformat": 4,
 "nbformat_minor": 2
}
