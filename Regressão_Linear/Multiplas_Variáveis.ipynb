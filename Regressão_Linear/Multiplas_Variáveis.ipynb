{
 "cells": [
  {
   "cell_type": "markdown",
   "metadata": {},
   "source": [
    "# LR Gradient Dsc"
   ]
  },
  {
   "cell_type": "code",
   "execution_count": null,
   "metadata": {},
   "outputs": [],
   "source": [
    "import numpy as np"
   ]
  },
  {
   "cell_type": "code",
   "execution_count": null,
   "metadata": {},
   "outputs": [],
   "source": [
    "def setex():\n",
    "  global x\n",
    "  global t\n",
    "  global y\n",
    "  n = int(input('Quantas variaveis?: '))\n",
    "  m = int(input('Quantos exemplos?: '))\n",
    "  t1 = [[0] for i in range(n+1)]\n",
    "  x1 = [[1 if j == 0 else float(input(f'Qual será o valor da {j}º variavel: ')) for j in range(n+1)] for i in range(m)]\n",
    "  y1 = [[float(input(f'Qual será o valor do {i+1}º exemplo: '))] for i in range(m)]\n",
    "  x = np.array(x1)\n",
    "  y = np.array(y1)\n",
    "  t = np.array(t1)\n",
    "\n",
    "def cost(x,t,y):\n",
    "  c = sum([((x[i] @ t)[0] - y[i,0]) ** 2 for i in range(len(y))])/(2 * len(y))\n",
    "  return round(c,10)\n",
    "\n",
    "def gradiet(x,t,y):\n",
    "  der = []\n",
    "  for j in range(len(x[0])):\n",
    "    c = sum([((x[i] @ t)[0] - y[i,0])*x[i,j] for i in range(len(y))])/len(y)\n",
    "    der.append([c])\n",
    "  return der\n",
    "\n",
    "def findeq(x,j,y):\n",
    "  global t\n",
    "  e = 0\n",
    "  while e != len(j):\n",
    "    e = 0\n",
    "    for i in gradiet(x,j,y):\n",
    "      if abs(i[0]) < 0.000001:\n",
    "        e += 1\n",
    "    j = j - (np.array(gradiet(x,j,y)) * 0.01)\n",
    "  l = [round(j[i][0],3) for i in range(len(j))]\n",
    "  t = np.transpose(np.array([l]))\n",
    "  return t\n",
    "\n",
    "setex()\n",
    "print(x)\n",
    "print(findeq(x,t,y))\n",
    "print(cost(x,t,y))"
   ]
  },
  {
   "cell_type": "markdown",
   "metadata": {},
   "source": [
    "# LR Equação Direta"
   ]
  },
  {
   "cell_type": "code",
   "execution_count": null,
   "metadata": {},
   "outputs": [],
   "source": [
    "import numpy as np\n",
    "import numpy.linalg as la"
   ]
  },
  {
   "cell_type": "code",
   "execution_count": null,
   "metadata": {},
   "outputs": [],
   "source": [
    "def setex():\n",
    "  global x\n",
    "  global y\n",
    "  n = int(input('Quantas variaveis?: '))\n",
    "  m = int(input('Quantos exemplos?: '))\n",
    "  t1 = [[0] for i in range(n+1)]\n",
    "  x1 = [[1 if j == 0 else float(input(f'Qual será o valor da {j}º variavel: ')) for j in range(n+1)] for i in range(m)]\n",
    "  y1 = [[float(input(f'Qual será o valor do {i+1}º exemplo: '))] for i in range(m)]\n",
    "  x = np.array(x1)\n",
    "  y = np.array(y1)\n",
    "\n",
    "def cost(x,t,y):\n",
    "  c = sum([((x[i] @ t)[0] - y[i,0]) ** 2 for i in range(len(y))])/(2 * len(y))\n",
    "  return round(c,10)\n",
    "\n",
    "def findeq(x,y):\n",
    "  global t\n",
    "  t = la.pinv(np.transpose(x) @ x) @ np.transpose(x) @ y\n",
    "  for i in range(len(t)):\n",
    "    t[i,0] = round(t[i,0],3)\n",
    "  return t\n",
    "\n",
    "setex()\n",
    "print(x)\n",
    "print(findeq(x,y))\n",
    "print(cost(x,t,y))"
   ]
  }
 ],
 "metadata": {
  "kernelspec": {
   "display_name": "base",
   "language": "python",
   "name": "python3"
  },
  "language_info": {
   "codemirror_mode": {
    "name": "ipython",
    "version": 3
   },
   "file_extension": ".py",
   "mimetype": "text/x-python",
   "name": "python",
   "nbconvert_exporter": "python",
   "pygments_lexer": "ipython3",
   "version": "3.12.7"
  }
 },
 "nbformat": 4,
 "nbformat_minor": 2
}
